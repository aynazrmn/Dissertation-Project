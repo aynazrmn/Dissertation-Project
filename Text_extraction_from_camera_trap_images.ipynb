{
  "nbformat": 4,
  "nbformat_minor": 0,
  "metadata": {
    "colab": {
      "provenance": [],
      "machine_shape": "hm",
      "gpuType": "T4"
    },
    "kernelspec": {
      "name": "python3",
      "display_name": "Python 3"
    },
    "language_info": {
      "name": "python"
    },
    "accelerator": "GPU"
  },
  "cells": [
    {
      "cell_type": "code",
      "execution_count": null,
      "metadata": {
        "colab": {
          "base_uri": "https://localhost:8080/"
        },
        "id": "8cjV4Ejtjusg",
        "outputId": "39a2476f-681e-48de-c3d0-c0c23fbf6c8a"
      },
      "outputs": [
        {
          "output_type": "stream",
          "name": "stdout",
          "text": [
            "Mounted at /content/gdrive\n"
          ]
        }
      ],
      "source": [
        "from google.colab import drive\n",
        "drive.mount('/content/gdrive')"
      ]
    },
    {
      "cell_type": "code",
      "source": [
        "!pip install pytesseract # Installing the pytesseract library, which is used for optical character recognition (OCR) in images."
      ],
      "metadata": {
        "colab": {
          "base_uri": "https://localhost:8080/"
        },
        "id": "FKh3RPMBlEmy",
        "outputId": "a449653b-7021-460f-c83e-8f5401711cbd"
      },
      "execution_count": null,
      "outputs": [
        {
          "output_type": "stream",
          "name": "stdout",
          "text": [
            "Collecting pytesseract\n",
            "  Downloading pytesseract-0.3.10-py3-none-any.whl (14 kB)\n",
            "Requirement already satisfied: packaging>=21.3 in /usr/local/lib/python3.10/dist-packages (from pytesseract) (24.1)\n",
            "Requirement already satisfied: Pillow>=8.0.0 in /usr/local/lib/python3.10/dist-packages (from pytesseract) (9.4.0)\n",
            "Installing collected packages: pytesseract\n",
            "Successfully installed pytesseract-0.3.10\n"
          ]
        }
      ]
    },
    {
      "cell_type": "code",
      "source": [
        "# Importing necessary libraries for text extraction and image processing\n",
        "import pytesseract  # For optical character recognition (OCR) to extract text from images\n",
        "from PIL import Image  # For opening and manipulating image files\n",
        "import cv2  # For advanced image processing and computer vision tasks\n",
        "import matplotlib.pyplot as plt  # For visualizing images and results using plots\n",
        "import glob  # For finding all pathnames matching a specified pattern\n",
        "\n",
        "\n",
        "\n",
        "image_paths = []\n",
        "folder_dirs = [ '/content/gdrive/MyDrive/cam07-output 0.85/false detections']\n",
        "\n",
        "for folder_dir in folder_dirs:\n",
        "    for images in glob.iglob(f'{folder_dir}/*'):\n",
        "        if (images.endswith(\".JPG\")):\n",
        "            image_paths.append(images)\n",
        "print(image_paths[:10]) # Print the first 10 image paths\n",
        "print(len(image_paths))"
      ],
      "metadata": {
        "colab": {
          "base_uri": "https://localhost:8080/"
        },
        "id": "v5QBb7-jkuhy",
        "outputId": "8d7a84a5-f1e4-4e8f-dec9-03978f861709"
      },
      "execution_count": null,
      "outputs": [
        {
          "output_type": "stream",
          "name": "stdout",
          "text": [
            "['/content/gdrive/MyDrive/cam07-output 0.85/false detections/11280035.JPG', '/content/gdrive/MyDrive/cam07-output 0.85/false detections/11280053.JPG', '/content/gdrive/MyDrive/cam07-output 0.85/false detections/11280052.JPG', '/content/gdrive/MyDrive/cam07-output 0.85/false detections/11280058.JPG', '/content/gdrive/MyDrive/cam07-output 0.85/false detections/11300497.JPG', '/content/gdrive/MyDrive/cam07-output 0.85/false detections/11300496.JPG', '/content/gdrive/MyDrive/cam07-output 0.85/false detections/12070249.JPG', '/content/gdrive/MyDrive/cam07-output 0.85/false detections/12210056.JPG', '/content/gdrive/MyDrive/cam07-output 0.85/false detections/12210055.JPG', '/content/gdrive/MyDrive/cam07-output 0.85/false detections/12230433.JPG']\n",
            "395\n"
          ]
        }
      ]
    },
    {
      "cell_type": "code",
      "source": [
        "!pip install easyocr # Installing the easyocr library for optical character recognition (OCR) in images."
      ],
      "metadata": {
        "colab": {
          "base_uri": "https://localhost:8080/"
        },
        "id": "K_kl2C-qmeY6",
        "outputId": "6a187f30-cdde-448c-eb7d-352e5bea95bd"
      },
      "execution_count": null,
      "outputs": [
        {
          "output_type": "stream",
          "name": "stdout",
          "text": [
            "Collecting easyocr\n",
            "  Downloading easyocr-1.7.1-py3-none-any.whl (2.9 MB)\n",
            "\u001b[2K     \u001b[90m━━━━━━━━━━━━━━━━━━━━━━━━━━━━━━━━━━━━━━━━\u001b[0m \u001b[32m2.9/2.9 MB\u001b[0m \u001b[31m36.2 MB/s\u001b[0m eta \u001b[36m0:00:00\u001b[0m\n",
            "\u001b[?25hRequirement already satisfied: torch in /usr/local/lib/python3.10/dist-packages (from easyocr) (2.3.0+cu121)\n",
            "Requirement already satisfied: torchvision>=0.5 in /usr/local/lib/python3.10/dist-packages (from easyocr) (0.18.0+cu121)\n",
            "Requirement already satisfied: opencv-python-headless in /usr/local/lib/python3.10/dist-packages (from easyocr) (4.10.0.84)\n",
            "Requirement already satisfied: scipy in /usr/local/lib/python3.10/dist-packages (from easyocr) (1.11.4)\n",
            "Requirement already satisfied: numpy in /usr/local/lib/python3.10/dist-packages (from easyocr) (1.25.2)\n",
            "Requirement already satisfied: Pillow in /usr/local/lib/python3.10/dist-packages (from easyocr) (9.4.0)\n",
            "Requirement already satisfied: scikit-image in /usr/local/lib/python3.10/dist-packages (from easyocr) (0.19.3)\n",
            "Collecting python-bidi (from easyocr)\n",
            "  Downloading python_bidi-0.4.2-py2.py3-none-any.whl (30 kB)\n",
            "Requirement already satisfied: PyYAML in /usr/local/lib/python3.10/dist-packages (from easyocr) (6.0.1)\n",
            "Requirement already satisfied: Shapely in /usr/local/lib/python3.10/dist-packages (from easyocr) (2.0.4)\n",
            "Collecting pyclipper (from easyocr)\n",
            "  Downloading pyclipper-1.3.0.post5-cp310-cp310-manylinux_2_12_x86_64.manylinux2010_x86_64.whl (908 kB)\n",
            "\u001b[2K     \u001b[90m━━━━━━━━━━━━━━━━━━━━━━━━━━━━━━━━━━━━━━━━\u001b[0m \u001b[32m908.3/908.3 kB\u001b[0m \u001b[31m56.0 MB/s\u001b[0m eta \u001b[36m0:00:00\u001b[0m\n",
            "\u001b[?25hCollecting ninja (from easyocr)\n",
            "  Downloading ninja-1.11.1.1-py2.py3-none-manylinux1_x86_64.manylinux_2_5_x86_64.whl (307 kB)\n",
            "\u001b[2K     \u001b[90m━━━━━━━━━━━━━━━━━━━━━━━━━━━━━━━━━━━━━━━━\u001b[0m \u001b[32m307.2/307.2 kB\u001b[0m \u001b[31m30.4 MB/s\u001b[0m eta \u001b[36m0:00:00\u001b[0m\n",
            "\u001b[?25hRequirement already satisfied: filelock in /usr/local/lib/python3.10/dist-packages (from torch->easyocr) (3.15.3)\n",
            "Requirement already satisfied: typing-extensions>=4.8.0 in /usr/local/lib/python3.10/dist-packages (from torch->easyocr) (4.12.2)\n",
            "Requirement already satisfied: sympy in /usr/local/lib/python3.10/dist-packages (from torch->easyocr) (1.12.1)\n",
            "Requirement already satisfied: networkx in /usr/local/lib/python3.10/dist-packages (from torch->easyocr) (3.3)\n",
            "Requirement already satisfied: jinja2 in /usr/local/lib/python3.10/dist-packages (from torch->easyocr) (3.1.4)\n",
            "Requirement already satisfied: fsspec in /usr/local/lib/python3.10/dist-packages (from torch->easyocr) (2023.6.0)\n",
            "Collecting nvidia-cuda-nvrtc-cu12==12.1.105 (from torch->easyocr)\n",
            "  Using cached nvidia_cuda_nvrtc_cu12-12.1.105-py3-none-manylinux1_x86_64.whl (23.7 MB)\n",
            "Collecting nvidia-cuda-runtime-cu12==12.1.105 (from torch->easyocr)\n",
            "  Using cached nvidia_cuda_runtime_cu12-12.1.105-py3-none-manylinux1_x86_64.whl (823 kB)\n",
            "Collecting nvidia-cuda-cupti-cu12==12.1.105 (from torch->easyocr)\n",
            "  Using cached nvidia_cuda_cupti_cu12-12.1.105-py3-none-manylinux1_x86_64.whl (14.1 MB)\n",
            "Collecting nvidia-cudnn-cu12==8.9.2.26 (from torch->easyocr)\n",
            "  Using cached nvidia_cudnn_cu12-8.9.2.26-py3-none-manylinux1_x86_64.whl (731.7 MB)\n",
            "Collecting nvidia-cublas-cu12==12.1.3.1 (from torch->easyocr)\n",
            "  Using cached nvidia_cublas_cu12-12.1.3.1-py3-none-manylinux1_x86_64.whl (410.6 MB)\n",
            "Collecting nvidia-cufft-cu12==11.0.2.54 (from torch->easyocr)\n",
            "  Using cached nvidia_cufft_cu12-11.0.2.54-py3-none-manylinux1_x86_64.whl (121.6 MB)\n",
            "Collecting nvidia-curand-cu12==10.3.2.106 (from torch->easyocr)\n",
            "  Using cached nvidia_curand_cu12-10.3.2.106-py3-none-manylinux1_x86_64.whl (56.5 MB)\n",
            "Collecting nvidia-cusolver-cu12==11.4.5.107 (from torch->easyocr)\n",
            "  Using cached nvidia_cusolver_cu12-11.4.5.107-py3-none-manylinux1_x86_64.whl (124.2 MB)\n",
            "Collecting nvidia-cusparse-cu12==12.1.0.106 (from torch->easyocr)\n",
            "  Using cached nvidia_cusparse_cu12-12.1.0.106-py3-none-manylinux1_x86_64.whl (196.0 MB)\n",
            "Collecting nvidia-nccl-cu12==2.20.5 (from torch->easyocr)\n",
            "  Using cached nvidia_nccl_cu12-2.20.5-py3-none-manylinux2014_x86_64.whl (176.2 MB)\n",
            "Collecting nvidia-nvtx-cu12==12.1.105 (from torch->easyocr)\n",
            "  Using cached nvidia_nvtx_cu12-12.1.105-py3-none-manylinux1_x86_64.whl (99 kB)\n",
            "Requirement already satisfied: triton==2.3.0 in /usr/local/lib/python3.10/dist-packages (from torch->easyocr) (2.3.0)\n",
            "Collecting nvidia-nvjitlink-cu12 (from nvidia-cusolver-cu12==11.4.5.107->torch->easyocr)\n",
            "  Downloading nvidia_nvjitlink_cu12-12.5.40-py3-none-manylinux2014_x86_64.whl (21.3 MB)\n",
            "\u001b[2K     \u001b[90m━━━━━━━━━━━━━━━━━━━━━━━━━━━━━━━━━━━━━━━━\u001b[0m \u001b[32m21.3/21.3 MB\u001b[0m \u001b[31m72.0 MB/s\u001b[0m eta \u001b[36m0:00:00\u001b[0m\n",
            "\u001b[?25hRequirement already satisfied: six in /usr/local/lib/python3.10/dist-packages (from python-bidi->easyocr) (1.16.0)\n",
            "Requirement already satisfied: imageio>=2.4.1 in /usr/local/lib/python3.10/dist-packages (from scikit-image->easyocr) (2.31.6)\n",
            "Requirement already satisfied: tifffile>=2019.7.26 in /usr/local/lib/python3.10/dist-packages (from scikit-image->easyocr) (2024.6.18)\n",
            "Requirement already satisfied: PyWavelets>=1.1.1 in /usr/local/lib/python3.10/dist-packages (from scikit-image->easyocr) (1.6.0)\n",
            "Requirement already satisfied: packaging>=20.0 in /usr/local/lib/python3.10/dist-packages (from scikit-image->easyocr) (24.1)\n",
            "Requirement already satisfied: MarkupSafe>=2.0 in /usr/local/lib/python3.10/dist-packages (from jinja2->torch->easyocr) (2.1.5)\n",
            "Requirement already satisfied: mpmath<1.4.0,>=1.1.0 in /usr/local/lib/python3.10/dist-packages (from sympy->torch->easyocr) (1.3.0)\n",
            "Installing collected packages: pyclipper, ninja, python-bidi, nvidia-nvtx-cu12, nvidia-nvjitlink-cu12, nvidia-nccl-cu12, nvidia-curand-cu12, nvidia-cufft-cu12, nvidia-cuda-runtime-cu12, nvidia-cuda-nvrtc-cu12, nvidia-cuda-cupti-cu12, nvidia-cublas-cu12, nvidia-cusparse-cu12, nvidia-cudnn-cu12, nvidia-cusolver-cu12, easyocr\n",
            "Successfully installed easyocr-1.7.1 ninja-1.11.1.1 nvidia-cublas-cu12-12.1.3.1 nvidia-cuda-cupti-cu12-12.1.105 nvidia-cuda-nvrtc-cu12-12.1.105 nvidia-cuda-runtime-cu12-12.1.105 nvidia-cudnn-cu12-8.9.2.26 nvidia-cufft-cu12-11.0.2.54 nvidia-curand-cu12-10.3.2.106 nvidia-cusolver-cu12-11.4.5.107 nvidia-cusparse-cu12-12.1.0.106 nvidia-nccl-cu12-2.20.5 nvidia-nvjitlink-cu12-12.5.40 nvidia-nvtx-cu12-12.1.105 pyclipper-1.3.0.post5 python-bidi-0.4.2\n"
          ]
        }
      ]
    },
    {
      "cell_type": "code",
      "source": [
        "# This script processes images to extract text related to bird detections from specified folders.\n",
        "# It uses OCR to read text from images, organizes the extracted data, and saves it into a CSV file.\n",
        "# The code also tracks the number of birds detected in each folder and formats the extracted text into structured data.\n",
        "# Note: The folder_dir and the name of the CSV file can be changed based on your data root and personal naming preferences.\n",
        "# The output of this code may require manual verification, as it sometimes extracts incorrect characters that need to be removed.\n",
        "\n",
        "import pytesseract\n",
        "from PIL import Image\n",
        "import cv2\n",
        "import matplotlib.pyplot as plt\n",
        "import glob\n",
        "import easyocr\n",
        "import time\n",
        "import pickle\n",
        "import pandas as pd\n",
        "\n",
        "folder_dirs = [\n",
        "    '/content/gdrive/MyDrive/cam07-output 0.85/false detections']\n",
        "\n",
        "\n",
        "def get_number_of_birds(folder_dir): #function determines the number of birds based on the folder name.\n",
        "    if '01' in folder_dir:\n",
        "        return 1\n",
        "    elif '02' in folder_dir:\n",
        "        return 2\n",
        "    elif '03' in folder_dir:\n",
        "        return 3\n",
        "    elif '04' in folder_dir:\n",
        "        return 4\n",
        "    elif '05' in folder_dir:\n",
        "        return 5\n",
        "    else:\n",
        "        return 0\n",
        "\n",
        "# Lists to store image paths and the corresponding number of birds\n",
        "image_paths = []\n",
        "number_of_birds = []\n",
        "\n",
        "for folder_dir in folder_dirs:\n",
        "    num_birds = get_number_of_birds(folder_dir)\n",
        "    for images in glob.iglob(f'{folder_dir}/*'):\n",
        "        if images.endswith(\".JPG\"):\n",
        "            image_paths.append(images)\n",
        "            number_of_birds.append(num_birds)\n",
        "\n",
        "print(image_paths[:10])\n",
        "print(len(image_paths))\n",
        "\n",
        "\n",
        "# This function processes an image by loading it, converting it to RGB, drawing a rectangle around\n",
        "#                 the region of interest (the white ribbon at the bottom containing temporal data)\n",
        "# cropping the image, converting it to grayscale, and returning the processed grayscale image for text extraction.\n",
        "\n",
        "def process_image(image_path):\n",
        "    image = cv2.imread(image_path)\n",
        "    image = cv2.cvtColor(image, cv2.COLOR_BGR2RGB)\n",
        "    cv2.rectangle(image, (0, 1300), (1920, 1440), (255, 0, 0), 6)\n",
        "    cropped_image = image[1200:1440, 0:1920]\n",
        "    gray_image = cv2.cvtColor(cropped_image, cv2.COLOR_RGB2GRAY)\n",
        "    return gray_image\n",
        "\n",
        "texts = []  # List to store extracted texts\n",
        "picture_names = []  # List to store image names\n",
        "batch_size = 1000  # Define batch size for processing\n",
        "start_time = time.time()  # Start timer to track elapsed time\n",
        "reader = easyocr.Reader(['en'])  # Initialize EasyOCR reader for English\n",
        "\n",
        "# Process images in batches\n",
        "for i in range(0, len(image_paths), batch_size):\n",
        "    batch_paths = image_paths[i:i + batch_size]  # Get the current batch of image paths\n",
        "    for image_path in batch_paths:\n",
        "        gray_image = process_image(image_path)  # Process the image\n",
        "        result = reader.readtext(gray_image)  # Extract text using EasyOCR\n",
        "        picture_name = image_path.split('/')[-1]  # Get the image file name\n",
        "        picture_names.append(picture_name)  # Store the picture name\n",
        "        for detection in result:\n",
        "            text = detection[1]  # Extract the detected text\n",
        "            texts.append(text)  # Append text to the list\n",
        "end_time = time.time()\n",
        "elapsed_time = end_time - start_time\n",
        "\n",
        "print(\"Elapsed Time:\", elapsed_time)\n",
        "\n",
        "split_texts = [text.split(',') for text in texts]\n",
        "\n",
        "grouped_elements = []\n",
        "temp_group = []\n",
        "for element in split_texts:\n",
        "    temp_group.extend(element)\n",
        "    if len(temp_group) == 5:\n",
        "        grouped_elements.append(temp_group)\n",
        "        temp_group = []\n",
        "\n",
        "# If the last group is not complete, fill it with placeholders\n",
        "if temp_group:\n",
        "    temp_group.extend(['aa'] * (5 - len(temp_group)))\n",
        "    grouped_elements.append(temp_group)\n",
        "\n",
        "bushnell = []\n",
        "camera_numbers = []\n",
        "temperatures = []\n",
        "dates = []\n",
        "times = []\n",
        "\n",
        "# Extract structured data from grouped elements\n",
        "for text in grouped_elements:\n",
        "    bushnell.append(text[0] if len(text) > 0 else 'aa')\n",
        "    camera_numbers.append(text[1] if len(text) > 1 else 'aa')\n",
        "    temperatures.append(text[2] if len(text) > 2 else 'aa')\n",
        "    dates.append(text[3] if len(text) > 3 else 'aa')\n",
        "    times.append(text[4] if len(text) > 4 else 'aa')\n",
        "\n",
        "# Ensure all lists have the same length by adding placeholders where necessary\n",
        "max_length = max(len(bushnell), len(camera_numbers), len(temperatures), len(dates), len(times), len(picture_names), len(number_of_birds))\n",
        "\n",
        "bushnell.extend(['aa'] * (max_length - len(bushnell)))\n",
        "camera_numbers.extend(['aa'] * (max_length - len(camera_numbers)))\n",
        "temperatures.extend(['aa'] * (max_length - len(temperatures)))\n",
        "dates.extend(['aa'] * (max_length - len(dates)))\n",
        "times.extend(['aa'] * (max_length - len(times)))\n",
        "picture_names.extend(['aa'] * (max_length - len(picture_names)))\n",
        "number_of_birds.extend([0] * (max_length - len(number_of_birds)))\n",
        "\n",
        "print(len(bushnell))\n",
        "print(len(camera_numbers))\n",
        "print(len(temperatures))\n",
        "print(len(dates))\n",
        "print(len(times))\n",
        "print(len(picture_names))\n",
        "print(len(number_of_birds))\n",
        "\n",
        "df = pd.DataFrame({\n",
        "    'Image_Name': picture_names,\n",
        "    'Bushnell': bushnell,\n",
        "    'Camera_Numbers': camera_numbers,\n",
        "    'Temperatures': temperatures,\n",
        "    'Dates': dates,\n",
        "    'Times': times,\n",
        "    'Number_of_Birds': number_of_birds\n",
        "})\n",
        "\n",
        "print(df)\n",
        "df.to_csv('CAME07-FalseDetections.csv', index=False)  # Save the DataFrame to a CSV file\n"
      ],
      "metadata": {
        "colab": {
          "base_uri": "https://localhost:8080/"
        },
        "id": "dDrofsVGks9u",
        "outputId": "dbe98632-7913-4226-fb2b-31f5b4bcede0"
      },
      "execution_count": null,
      "outputs": [
        {
          "output_type": "stream",
          "name": "stderr",
          "text": [
            "WARNING:easyocr.easyocr:Downloading detection model, please wait. This may take several minutes depending upon your network connection.\n"
          ]
        },
        {
          "output_type": "stream",
          "name": "stdout",
          "text": [
            "['/content/gdrive/MyDrive/cam07-output 0.85/false detections/11280035.JPG', '/content/gdrive/MyDrive/cam07-output 0.85/false detections/11280053.JPG', '/content/gdrive/MyDrive/cam07-output 0.85/false detections/11280052.JPG', '/content/gdrive/MyDrive/cam07-output 0.85/false detections/11280058.JPG', '/content/gdrive/MyDrive/cam07-output 0.85/false detections/11300497.JPG', '/content/gdrive/MyDrive/cam07-output 0.85/false detections/11300496.JPG', '/content/gdrive/MyDrive/cam07-output 0.85/false detections/12070249.JPG', '/content/gdrive/MyDrive/cam07-output 0.85/false detections/12210056.JPG', '/content/gdrive/MyDrive/cam07-output 0.85/false detections/12210055.JPG', '/content/gdrive/MyDrive/cam07-output 0.85/false detections/12230433.JPG']\n",
            "395\n",
            "Progress: |██████████████████████████████████████████████████| 100.0% Complete"
          ]
        },
        {
          "output_type": "stream",
          "name": "stderr",
          "text": [
            "WARNING:easyocr.easyocr:Downloading recognition model, please wait. This may take several minutes depending upon your network connection.\n"
          ]
        },
        {
          "output_type": "stream",
          "name": "stdout",
          "text": [
            "Progress: |██████████████████████████████████████████████████| 100.0% Complete"
          ]
        },
        {
          "output_type": "stream",
          "name": "stderr",
          "text": [
            "/usr/local/lib/python3.10/dist-packages/torch/nn/modules/conv.py:456: UserWarning: Plan failed with a cudnnException: CUDNN_BACKEND_EXECUTION_PLAN_DESCRIPTOR: cudnnFinalize Descriptor Failed cudnn_status: CUDNN_STATUS_NOT_SUPPORTED (Triggered internally at ../aten/src/ATen/native/cudnn/Conv_v8.cpp:919.)\n",
            "  return F.conv2d(input, weight, bias, self.stride,\n"
          ]
        },
        {
          "output_type": "stream",
          "name": "stdout",
          "text": [
            "Elapsed Time: 114.05581974983215\n",
            "395\n",
            "395\n",
            "395\n",
            "395\n",
            "395\n",
            "395\n",
            "395\n",
            "       Image_Name   Bushnell Camera_Numbers Temperatures       Dates  \\\n",
            "0    11280035.JPG  (Bushnell          Camo7    16*F -8*C  11-28-2022   \n",
            "1    11280053.JPG  (Bushnell          Camo7    16*F -8C6  11-28-2022   \n",
            "2    11280052.JPG  (Bushnell          Camo7    16*F -8C8  11-28-2022   \n",
            "3    11280058.JPG  IBushnell          Camo7    16*F -8C8  11-28-2022   \n",
            "4    11300497.JPG  (Bushnell          Camo7      21*-6C8  11-30-2022   \n",
            "..            ...        ...            ...          ...         ...   \n",
            "390  01270103.JPG  (Bushnell          Camo7      20*-6C8  01-27-2023   \n",
            "391  01270108.JPG  (Bushnell          Camo7    20* -6*C8  01-27-2023   \n",
            "392  01270105.JPG  (Bushnell          Camo7    20* -6*C8  01-27-2023   \n",
            "393  01270111.JPG  (Bushnell          Camo7      21*-6C4  01-27-2023   \n",
            "394  01270104.JPG  (Bushnell          Camo7     20*-6*C8  01-27-2023   \n",
            "\n",
            "           Times  Number_of_Birds  \n",
            "0      17:10 :27                0  \n",
            "1       17:16.21                0  \n",
            "2       17:16.20                0  \n",
            "3      17:18 :50                0  \n",
            "4    09 .58 : 43                0  \n",
            "..           ...              ...  \n",
            "390     07:35:03                0  \n",
            "391  07 : 40 :05                0  \n",
            "392     07:35:05                0  \n",
            "393    07: 45:05                0  \n",
            "394     07:35:04                0  \n",
            "\n",
            "[395 rows x 7 columns]\n"
          ]
        }
      ]
    }
  ]
}